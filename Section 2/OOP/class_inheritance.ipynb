{
 "metadata": {
  "language_info": {
   "codemirror_mode": {
    "name": "ipython",
    "version": 3
   },
   "file_extension": ".py",
   "mimetype": "text/x-python",
   "name": "python",
   "nbconvert_exporter": "python",
   "pygments_lexer": "ipython3",
   "version": "3.9.1-final"
  },
  "orig_nbformat": 2,
  "kernelspec": {
   "name": "python3",
   "display_name": "Python 3.9.1 64-bit",
   "metadata": {
    "interpreter": {
     "hash": "798ca19e7eb63894182742896624d4aa0970b1d638e84332a307003e6e8e075e"
    }
   }
  }
 },
 "nbformat": 4,
 "nbformat_minor": 2,
 "cells": [
  {
   "cell_type": "code",
   "execution_count": 7,
   "metadata": {},
   "outputs": [],
   "source": [
    "class Device:\n",
    "    def __init__(self, name, connected_by):\n",
    "        self.name = name\n",
    "        self.connected_by = connected_by\n",
    "        self.connected = True\n",
    "\n",
    "    def __str__(self):\n",
    "        return f'Device {self.name!r} ({self.connected_by}). Connected: {self.connected}'\n",
    "\n",
    "    def disconnect(self):\n",
    "        self.connected = False\n",
    "        print(f'Device {self.name!r} disconnected')\n",
    "\n",
    "\n",
    "class Printer(Device):\n",
    "    def __init__(self, name, connected_by, capacity):\n",
    "        super().__init__(name, connected_by)\n",
    "        self.capacity = capacity\n",
    "        self.remaining_pages = capacity\n",
    "\n",
    "    \n",
    "    def __str__(self):\n",
    "        return f'{super().__str__()} ({self.remaining_pages} pages remaining)'\n",
    "\n",
    "\n",
    "    def print(self, pages):\n",
    "        if not self.connected:\n",
    "            print('Your printer is not connected!')\n",
    "            return\n",
    "        print(f'Printing {pages} pages.')\n",
    "        self.remaining_pages -= pages"
   ]
  },
  {
   "source": [
    "Apenas um breve comentário:\n",
    "\n",
    "- Podemos formatar a string para sair em sua forma representativa de variável, utilizando o '!r' ao lado de sua variável, dentro do format explícito ou implícito\n",
    "\n",
    "\n",
    "O método super() instancia a classe pai, de quem se herda ou herdam as configurações"
   ],
   "cell_type": "markdown",
   "metadata": {}
  },
  {
   "cell_type": "code",
   "execution_count": 8,
   "metadata": {},
   "outputs": [
    {
     "output_type": "stream",
     "name": "stdout",
     "text": [
      "Device 'camera' (usb). Connected: True\nDevice 'camera' disconnected\nDevice 'camera' (usb). Connected: False\n"
     ]
    }
   ],
   "source": [
    "disp1 = Device('camera', 'usb')\n",
    "\n",
    "print(disp1)\n",
    "\n",
    "disp1.disconnect()\n",
    "\n",
    "print(disp1)"
   ]
  },
  {
   "cell_type": "code",
   "execution_count": 10,
   "metadata": {},
   "outputs": [
    {
     "output_type": "stream",
     "name": "stdout",
     "text": [
      "Device 'Impressora' (USB). Connected: True (150 pages remaining)\nPrinting 20 pages.\nDevice 'Impressora' (USB). Connected: True (130 pages remaining)\n"
     ]
    }
   ],
   "source": [
    "printer = Printer('Impressora', 'USB', 150)\n",
    "\n",
    "print(printer)\n",
    "\n",
    "printer.print(20)\n",
    "\n",
    "print(printer)"
   ]
  },
  {
   "cell_type": "code",
   "execution_count": 11,
   "metadata": {},
   "outputs": [
    {
     "output_type": "stream",
     "name": "stdout",
     "text": [
      "Device 'Impressora' disconnected\nDevice 'Impressora' (USB). Connected: False (130 pages remaining)\n"
     ]
    }
   ],
   "source": [
    "printer.disconnect()\n",
    "\n",
    "print(printer)"
   ]
  },
  {
   "cell_type": "code",
   "execution_count": 12,
   "metadata": {},
   "outputs": [
    {
     "output_type": "stream",
     "name": "stdout",
     "text": [
      "Your printer is not connected!\n"
     ]
    }
   ],
   "source": [
    "printer.print(15)"
   ]
  },
  {
   "source": [
    "Níveis de verificação de propriedades e métodos:\n",
    "\n",
    "- 1: classe local\n",
    "- 2: classe pai\n",
    "- 3: próxima classe pai ou retorna erro caso não encontrado"
   ],
   "cell_type": "markdown",
   "metadata": {}
  }
 ]
}