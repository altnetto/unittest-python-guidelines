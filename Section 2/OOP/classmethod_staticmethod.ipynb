{
 "metadata": {
  "language_info": {
   "codemirror_mode": {
    "name": "ipython",
    "version": 3
   },
   "file_extension": ".py",
   "mimetype": "text/x-python",
   "name": "python",
   "nbconvert_exporter": "python",
   "pygments_lexer": "ipython3",
   "version": "3.9.1-final"
  },
  "orig_nbformat": 2,
  "kernelspec": {
   "name": "python3",
   "display_name": "Python 3.9.1 64-bit",
   "metadata": {
    "interpreter": {
     "hash": "798ca19e7eb63894182742896624d4aa0970b1d638e84332a307003e6e8e075e"
    }
   }
  }
 },
 "nbformat": 4,
 "nbformat_minor": 2,
 "cells": [
  {
   "source": [
    "<h3>Class Methods and Static Methods</h3>"
   ],
   "cell_type": "markdown",
   "metadata": {}
  },
  {
   "source": [
    "Todo método que utiliza o próprio objeto (self) como primeiro parâmetro declarado, são chamados métodos instanciados (instance methods)"
   ],
   "cell_type": "markdown",
   "metadata": {}
  },
  {
   "cell_type": "code",
   "execution_count": 3,
   "metadata": {},
   "outputs": [
    {
     "output_type": "stream",
     "name": "stdout",
     "text": [
      "Called instance_method of <__main__.ClassTest object at 0x000001D85BCA7940>\nCalled instance_method of <__main__.ClassTest object at 0x000001D85BCA7940>\n"
     ]
    }
   ],
   "source": [
    "class ClassTest:\n",
    "    def instance_method(self):\n",
    "        print(f'Called instance_method of {self}')\n",
    "\n",
    "\n",
    "test = ClassTest()\n",
    "\n",
    "test.instance_method()\n",
    "ClassTest.instance_method(test)"
   ]
  },
  {
   "source": [
    "Class Methods são métodos que não dependem de instância, ou seja, que agem diretamente na classe em questão"
   ],
   "cell_type": "markdown",
   "metadata": {}
  },
  {
   "cell_type": "code",
   "execution_count": 4,
   "metadata": {},
   "outputs": [
    {
     "output_type": "stream",
     "name": "stdout",
     "text": [
      "Called class_method of <class '__main__.ClassTest'>\n"
     ]
    }
   ],
   "source": [
    "class ClassTest:\n",
    "    def instance_method(self):\n",
    "        print(f'Called instance_method of {self}')\n",
    "\n",
    "    @classmethod\n",
    "    def class_method(cls):\n",
    "        print(f'Called class_method of {cls}')\n",
    "\n",
    "ClassTest.class_method()"
   ]
  },
  {
   "source": [
    "Static methods não necessitam de nenhuma instância de objeto ou classe. Basicamente, trata-se de uma função 'helper' que está dentro da classe em questão"
   ],
   "cell_type": "markdown",
   "metadata": {}
  },
  {
   "cell_type": "code",
   "execution_count": 5,
   "metadata": {},
   "outputs": [
    {
     "output_type": "stream",
     "name": "stdout",
     "text": [
      "Called static_method.\n"
     ]
    }
   ],
   "source": [
    "class ClassTest:\n",
    "    def instance_method(self):\n",
    "        print(f'Called instance_method of {self}.')\n",
    "\n",
    "    \n",
    "    @classmethod\n",
    "    def class_method(cls):\n",
    "        print(f'Called class_method of {cls}.')\n",
    "\n",
    "    \n",
    "    @staticmethod\n",
    "    def static_method():\n",
    "        print('Called static_method.')    \n",
    "\n",
    "ClassTest.static_method()"
   ]
  },
  {
   "cell_type": "code",
   "execution_count": 13,
   "metadata": {},
   "outputs": [
    {
     "output_type": "stream",
     "name": "stdout",
     "text": [
      "<Book Harry Potter, hardcover, weighing 1500g>\n"
     ]
    }
   ],
   "source": [
    "class Book:\n",
    "    TYPES = ('hardcover', 'paperback')\n",
    "\n",
    "    def __init__(self, name, book_type, weight):\n",
    "        self.name = name\n",
    "        self.book_type = book_type\n",
    "        self.weight = weight\n",
    "\n",
    "\n",
    "    def __repr__(self):\n",
    "        return f'<Book {self.name}, {self.book_type}, weighing {self.weight}g>'\n",
    "\n",
    "    \n",
    "    @classmethod\n",
    "    def hardcover(cls, name, page_weight):\n",
    "        return Book(name, Book.TYPES[0], page_weight + 100)\n",
    "\n",
    "    \n",
    "    @classmethod\n",
    "    def paperback(cls, name, page_weight):\n",
    "        return cls(name, cls.TYPES[1], page_weight)\n",
    "\n",
    "book = Book('Harry Potter', 'hardcover', 1500)\n",
    "\n",
    "print(book)"
   ]
  },
  {
   "cell_type": "code",
   "execution_count": 9,
   "metadata": {},
   "outputs": [
    {
     "output_type": "stream",
     "name": "stdout",
     "text": [
      "<Book As crônicas de Nárnia, hardcover, weighing 1100g>\n"
     ]
    }
   ],
   "source": [
    "book2 = Book.hardcover('As crônicas de Nárnia', 1000)\n",
    "\n",
    "print(book2)"
   ]
  },
  {
   "cell_type": "code",
   "execution_count": 14,
   "metadata": {},
   "outputs": [
    {
     "output_type": "stream",
     "name": "stdout",
     "text": [
      "<Book A vida como ela é, paperback, weighing 350g>\n"
     ]
    }
   ],
   "source": [
    "book3 = Book.paperback('A vida como ela é', 350)\n",
    "\n",
    "print(book3)"
   ]
  },
  {
   "source": [
    "Exercício"
   ],
   "cell_type": "markdown",
   "metadata": {}
  },
  {
   "cell_type": "code",
   "execution_count": 20,
   "metadata": {},
   "outputs": [
    {
     "output_type": "stream",
     "name": "stdout",
     "text": [
      "loja K - franchise\n"
     ]
    }
   ],
   "source": [
    "class Store:\n",
    "    def __init__(self, name):\n",
    "        self.name = name\n",
    "        self.items = []\n",
    "\n",
    "    def add_item(self, name, price):\n",
    "        self.items.append({\n",
    "            'name': name,\n",
    "            'price': price\n",
    "        })\n",
    "\n",
    "    def stock_price(self):\n",
    "        total = 0\n",
    "        for item in self.items:\n",
    "            total += item['price']\n",
    "        return total\n",
    "\n",
    "    @classmethod\n",
    "    def franchise(cls, store):\n",
    "        # Return another store, with the same name as the argument's name, plus \" - franchise\"\n",
    "        return cls(store.name + ' - franchise')\n",
    "\n",
    "    @staticmethod\n",
    "    def store_details(store):\n",
    "        # Return a string representing the argument\n",
    "        # It should be in the format 'NAME, total stock price: TOTAL'\n",
    "        return f'{store.name}, total stock price: {store.stock_price()}'\n",
    "\n",
    "loja1 = Store('loja1')\n",
    "lojaK = Store('loja K')\n",
    "\n",
    "lojaK_f = Store.franchise(lojaK)\n",
    "\n",
    "print(lojaK_f.name)"
   ]
  }
 ]
}