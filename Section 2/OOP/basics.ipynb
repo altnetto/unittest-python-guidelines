{
 "metadata": {
  "language_info": {
   "codemirror_mode": {
    "name": "ipython",
    "version": 3
   },
   "file_extension": ".py",
   "mimetype": "text/x-python",
   "name": "python",
   "nbconvert_exporter": "python",
   "pygments_lexer": "ipython3",
   "version": "3.9.1-final"
  },
  "orig_nbformat": 2,
  "kernelspec": {
   "name": "python3",
   "display_name": "Python 3.9.1 64-bit ('env': venv)",
   "metadata": {
    "interpreter": {
     "hash": "798ca19e7eb63894182742896624d4aa0970b1d638e84332a307003e6e8e075e"
    }
   }
  }
 },
 "nbformat": 4,
 "nbformat_minor": 2,
 "cells": [
  {
   "cell_type": "code",
   "execution_count": 1,
   "metadata": {},
   "outputs": [
    {
     "output_type": "stream",
     "name": "stdout",
     "text": [
      "88.0\n"
     ]
    }
   ],
   "source": [
    "student = {'name': 'Rolf', 'grades': (89, 90, 93, 78, 90)}\n",
    "\n",
    "def average(sequence):\n",
    "    return sum(sequence) / len(sequence)\n",
    "\n",
    "\n",
    "print(average(student['grades']))"
   ]
  },
  {
   "cell_type": "code",
   "execution_count": 8,
   "metadata": {},
   "outputs": [
    {
     "output_type": "stream",
     "name": "stdout",
     "text": [
      "88.0\n88.0\n"
     ]
    }
   ],
   "source": [
    "class Student:\n",
    "    def __init__(self, name, grades):\n",
    "        self.name = name\n",
    "        self.grades = grades\n",
    "\n",
    "\n",
    "    def average(self):\n",
    "        return sum(self.grades) / len(self.grades)\n",
    "\n",
    "\n",
    "student = Student(name='Bob', grades=(80,85,90,95,90))\n",
    "\n",
    "# it works the same way\n",
    "\n",
    "print(student.average())\n",
    "print(Student.average(student))"
   ]
  }
 ]
}