{
 "metadata": {
  "language_info": {
   "codemirror_mode": {
    "name": "ipython",
    "version": 3
   },
   "file_extension": ".py",
   "mimetype": "text/x-python",
   "name": "python",
   "nbconvert_exporter": "python",
   "pygments_lexer": "ipython3",
   "version": "3.9.1-final"
  },
  "orig_nbformat": 2,
  "kernelspec": {
   "name": "python3",
   "display_name": "Python 3.9.1 64-bit",
   "metadata": {
    "interpreter": {
     "hash": "798ca19e7eb63894182742896624d4aa0970b1d638e84332a307003e6e8e075e"
    }
   }
  }
 },
 "nbformat": 4,
 "nbformat_minor": 2,
 "cells": [
  {
   "cell_type": "code",
   "execution_count": 16,
   "metadata": {},
   "outputs": [
    {
     "output_type": "stream",
     "name": "stdout",
     "text": [
      "Claus: 15 yo\n"
     ]
    }
   ],
   "source": [
    "class Person:\n",
    "    def __init__(self, name, age):\n",
    "        self.name = name\n",
    "        self.age = age\n",
    "\n",
    "    def idade_dias(self):\n",
    "        return self.age*365\n",
    "\n",
    "    def __repr__(self):\n",
    "        return f'<{self.name}: {self.age}>'\n",
    "\n",
    "    def __str__(self):\n",
    "        return f'{self.name}: {self.age} yo'  \n",
    "\n",
    "person = Person('Claus', 15)\n",
    "\n",
    "print(person)"
   ]
  },
  {
   "source": [
    "Percebe-se que a ordem de prioridade é, na verdade, para \\__str\\__, que irá retornar uma string de saída do objeto. o \\__repr\\__ tem a mesma função, sendo que, caso sozinho, irá gerar a representação do objeto ao chamar um print.\n",
    "\n",
    "Entretanto, seu uso será mais vantajoso ao se lidar com o debug, pois é gerada uma representação inambígua das informações do objeto, para poder ser recriado, se desejado"
   ],
   "cell_type": "markdown",
   "metadata": {}
  },
  {
   "cell_type": "code",
   "execution_count": 13,
   "metadata": {},
   "outputs": [
    {
     "output_type": "stream",
     "name": "stdout",
     "text": [
      "Claus: 15 yo\n"
     ]
    }
   ],
   "source": [
    "class Person:\n",
    "    def __init__(self, name, age):\n",
    "        self.name = name\n",
    "        self.age = age\n",
    "\n",
    "    def idade_dias(self):\n",
    "        return self.age*365\n",
    "\n",
    "    def __str__(self):\n",
    "        return f'{self.name}: {self.age} yo'\n",
    "\n",
    "person = Person('Claus', 15)\n",
    "\n",
    "print(person)"
   ]
  },
  {
   "source": [
    "Exercício\n",
    "\n"
   ],
   "cell_type": "markdown",
   "metadata": {}
  },
  {
   "cell_type": "code",
   "execution_count": 25,
   "metadata": {},
   "outputs": [
    {
     "output_type": "stream",
     "name": "stdout",
     "text": [
      "[{'name': 'Casaco', 'price': 180}, {'name': 'Cachecol', 'price': 35}, {'name': 'Tênis', 'price': 78}]\n\nloja.stock_price()=293\n"
     ]
    }
   ],
   "source": [
    "class Store:\n",
    "    def __init__(self, name):\n",
    "        self.name = name\n",
    "        self.items = []\n",
    "    \n",
    "    def add_item(self, name, price):\n",
    "        # Create a dictionary with keys name and price, and append that to self.items.\n",
    "        d = {'name': name, 'price': price}\n",
    "        self.items.append(d)\n",
    "\n",
    "    def stock_price(self):\n",
    "        # Add together all item prices in self.items and return the total.\n",
    "        return sum([item['price'] for item in self.items])\n",
    "\n",
    "loja = Store('Lojinha')\n",
    "\n",
    "loja.add_item(name='Casaco', price=180)\n",
    "loja.add_item(name='Cachecol', price=35)\n",
    "loja.add_item(name='Tênis', price=78)\n",
    "\n",
    "print(loja.items)\n",
    "print(f'\\n{loja.stock_price()=}')"
   ]
  }
 ]
}