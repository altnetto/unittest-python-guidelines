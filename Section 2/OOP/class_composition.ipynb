{
 "metadata": {
  "language_info": {
   "codemirror_mode": {
    "name": "ipython",
    "version": 3
   },
   "file_extension": ".py",
   "mimetype": "text/x-python",
   "name": "python",
   "nbconvert_exporter": "python",
   "pygments_lexer": "ipython3",
   "version": "3.9.1-final"
  },
  "orig_nbformat": 2,
  "kernelspec": {
   "name": "python3",
   "display_name": "Python 3.9.1 64-bit",
   "metadata": {
    "interpreter": {
     "hash": "798ca19e7eb63894182742896624d4aa0970b1d638e84332a307003e6e8e075e"
    }
   }
  }
 },
 "nbformat": 4,
 "nbformat_minor": 2,
 "cells": [
  {
   "cell_type": "code",
   "execution_count": 1,
   "metadata": {},
   "outputs": [],
   "source": [
    "class BookShelf:\n",
    "    def __init__(self, *books):\n",
    "        self.books = [book.name for book in books]\n",
    "\n",
    "\n",
    "    def __str__(self):\n",
    "        return f'BookShelf with {len(self.books)} books.'\n",
    "\n",
    "\n",
    "    def add_book(self, book):\n",
    "        self.books.append(book.name)\n",
    "\n",
    "class Book:\n",
    "    def __init__(self, name):\n",
    "        self.name = name\n",
    "\n",
    "    \n",
    "    def __str__(self):\n",
    "        return f'Book {self.name!r}'"
   ]
  },
  {
   "cell_type": "code",
   "execution_count": 2,
   "metadata": {},
   "outputs": [
    {
     "output_type": "stream",
     "name": "stdout",
     "text": [
      "Book 'Harry Potter'\nBook 'The Chronicles of Narnia'\nBookShelf with 2 books.\n['Harry Potter', 'The Chronicles of Narnia']\n"
     ]
    }
   ],
   "source": [
    "book1 = Book('Harry Potter')\n",
    "book2 = Book('The Chronicles of Narnia')\n",
    "\n",
    "shelf = BookShelf(book1, book2)\n",
    "\n",
    "print(book1)\n",
    "print(book2)\n",
    "print(shelf)\n",
    "print(shelf.books)"
   ]
  },
  {
   "cell_type": "code",
   "execution_count": 5,
   "metadata": {},
   "outputs": [
    {
     "output_type": "stream",
     "name": "stdout",
     "text": [
      "['Harry Potter', 'The Chronicles of Narnia', 'Lord of the rings', 'Lord of the rings', 'Lord of the rings']\n"
     ]
    }
   ],
   "source": [
    "book3 = Book('Lord of the rings')\n",
    "shelf.add_book(book3)\n",
    "\n",
    "print(shelf.books)"
   ]
  },
  {
   "cell_type": "code",
   "execution_count": null,
   "metadata": {},
   "outputs": [],
   "source": []
  }
 ]
}