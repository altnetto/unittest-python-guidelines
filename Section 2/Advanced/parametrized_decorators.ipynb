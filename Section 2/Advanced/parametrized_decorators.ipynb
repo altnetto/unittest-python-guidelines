{
 "metadata": {
  "language_info": {
   "codemirror_mode": {
    "name": "ipython",
    "version": 3
   },
   "file_extension": ".py",
   "mimetype": "text/x-python",
   "name": "python",
   "nbconvert_exporter": "python",
   "pygments_lexer": "ipython3",
   "version": "3.9.1-final"
  },
  "orig_nbformat": 2,
  "kernelspec": {
   "name": "python3",
   "display_name": "Python 3.9.1 64-bit",
   "metadata": {
    "interpreter": {
     "hash": "798ca19e7eb63894182742896624d4aa0970b1d638e84332a307003e6e8e075e"
    }
   }
  }
 },
 "nbformat": 4,
 "nbformat_minor": 2,
 "cells": [
  {
   "cell_type": "code",
   "execution_count": 11,
   "metadata": {},
   "outputs": [],
   "source": [
    "import functools\n",
    "\n",
    "user = {'username': 'altieres', 'access_level': 'guest'}\n",
    "\n",
    "def make_secure(access_level):\n",
    "    def decorator(func):\n",
    "        @functools.wraps(func)\n",
    "        def secure_function(*args, **kwargs):\n",
    "            if user['access_level'] == access_level:\n",
    "                return func(*args, **kwargs)\n",
    "            else:\n",
    "                return 'No {0!r} permissions for {1!r}'.format(access_level, user['username'])\n",
    "        \n",
    "        \n",
    "        return secure_function\n",
    "\n",
    "\n",
    "    return decorator"
   ]
  },
  {
   "cell_type": "code",
   "execution_count": 13,
   "metadata": {},
   "outputs": [
    {
     "output_type": "stream",
     "name": "stdout",
     "text": [
      "No 'admin' permissions for 'altieres'\nuser: user_password\n"
     ]
    }
   ],
   "source": [
    "@make_secure('admin')\n",
    "def get_admin_password():\n",
    "    return 'admin: 1234'\n",
    "\n",
    "\n",
    "@make_secure('guest')\n",
    "def get_dashboard_password():\n",
    "    return 'user: user_password'\n",
    "\n",
    "\n",
    "print(get_admin_password())\n",
    "print(get_dashboard_password())"
   ]
  },
  {
   "cell_type": "code",
   "execution_count": 14,
   "metadata": {},
   "outputs": [
    {
     "output_type": "stream",
     "name": "stdout",
     "text": [
      "admin: 1234\nNo 'guest' permissions for 'admin'\n"
     ]
    }
   ],
   "source": [
    "user = {'username':'admin', 'access_level': 'admin'}\n",
    "\n",
    "print(get_admin_password())\n",
    "print(get_dashboard_password())"
   ]
  }
 ]
}