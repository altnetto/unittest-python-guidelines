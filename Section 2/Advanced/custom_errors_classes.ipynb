{
 "metadata": {
  "language_info": {
   "codemirror_mode": {
    "name": "ipython",
    "version": 3
   },
   "file_extension": ".py",
   "mimetype": "text/x-python",
   "name": "python",
   "nbconvert_exporter": "python",
   "pygments_lexer": "ipython3",
   "version": "3.9.1-final"
  },
  "orig_nbformat": 2,
  "kernelspec": {
   "name": "python3",
   "display_name": "Python 3.9.1 64-bit",
   "metadata": {
    "interpreter": {
     "hash": "798ca19e7eb63894182742896624d4aa0970b1d638e84332a307003e6e8e075e"
    }
   }
  }
 },
 "nbformat": 4,
 "nbformat_minor": 2,
 "cells": [
  {
   "cell_type": "code",
   "execution_count": null,
   "metadata": {},
   "outputs": [],
   "source": [
    "class TooManyPagesReadError(ValueError):\n",
    "    pass\n",
    "\n",
    "\n",
    "class Book:\n",
    "    def __init__(self, name: str, page_count: int):\n",
    "        self.name = name\n",
    "        self.page_count = page_count\n",
    "        self.pages_read = 0\n",
    "\n",
    "    \n",
    "    def __repr__(self):\n",
    "        return (\n",
    "            f'<Book {self.name}, read {self.pages_read} pages out of {self.page_count}>'\n",
    "        )\n",
    "\n",
    "    \n",
    "    def read(self, pages: int):\n",
    "\n",
    "        if self.pages_read + pages > self.page_count:\n",
    "            raise TooManyPagesReadError(\n",
    "                f'You tried to read {self.pages_read + pages} pages, but this book only has {self.page_count} pages.'\n",
    "        )\n",
    "\n",
    "        self.pages_read += pages\n",
    "        print(f'Have read {pages} pages from the book {self.name}')"
   ]
  },
  {
   "cell_type": "code",
   "execution_count": null,
   "metadata": {},
   "outputs": [],
   "source": [
    "try:\n",
    "    python101 = Book('Python101', 50)\n",
    "    python101.read(55)\n",
    "except TooManyPagesReadError as e:\n",
    "    print(e)"
   ]
  },
  {
   "cell_type": "code",
   "execution_count": 1,
   "metadata": {},
   "outputs": [
    {
     "output_type": "stream",
     "name": "stdout",
     "text": [
      "Not enough privilegies.\n"
     ]
    }
   ],
   "source": [
    "from test_decorators import get_admin_password\n",
    "\n",
    "print(get_admin_password())"
   ]
  },
  {
   "cell_type": "code",
   "execution_count": null,
   "metadata": {},
   "outputs": [],
   "source": []
  }
 ]
}