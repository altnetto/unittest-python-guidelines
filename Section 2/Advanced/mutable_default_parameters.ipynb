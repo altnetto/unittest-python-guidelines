{
 "metadata": {
  "language_info": {
   "codemirror_mode": {
    "name": "ipython",
    "version": 3
   },
   "file_extension": ".py",
   "mimetype": "text/x-python",
   "name": "python",
   "nbconvert_exporter": "python",
   "pygments_lexer": "ipython3",
   "version": "3.9.1-final"
  },
  "orig_nbformat": 2,
  "kernelspec": {
   "name": "python3",
   "display_name": "Python 3.9.1 64-bit ('env')",
   "metadata": {
    "interpreter": {
     "hash": "798ca19e7eb63894182742896624d4aa0970b1d638e84332a307003e6e8e075e"
    }
   }
  }
 },
 "nbformat": 4,
 "nbformat_minor": 2,
 "cells": [
  {
   "source": [
    "Em Python, definir simplesmente uma lista vazia como valor default de um parâmetro é uma ideia ruim, pois irá adquirir o valor de alguma variável que já existe dentro da classe (busca de outro objeto declarado anteriormente).\n",
    "\n",
    "Para evitar esse tipo de erro, pode-se definir o parâmetro como Optional, explicitando seu tipo, e colocando o valor padrão nesse caso, que será 'None'\n",
    "\n",
    "Além disso, ao declarar a variável dentro do método \\__init\\__, podemos também utilizar uma sintaxe de seleção, onde o primeiro valor, caso não esteja presente, irá buscar o(s) valor(es) subsequente(s), utilizando o conector booleano 'or'"
   ],
   "cell_type": "markdown",
   "metadata": {}
  },
  {
   "cell_type": "code",
   "execution_count": 3,
   "metadata": {},
   "outputs": [],
   "source": [
    "from typing import List, Optional\n",
    "\n",
    "class Student:\n",
    "    def __init__(self, name: str, grades: Optional[List[int]] = None):\n",
    "        self.name = name\n",
    "        self.grades = grades or []\n",
    "\n",
    "    \n",
    "    def take_exam(self, result: int):\n",
    "        self.grades.append(result)\n",
    "\n",
    "    \n",
    "    def show_grades(self):\n",
    "        print(f'{self.name} grades: {self.grades}')"
   ]
  },
  {
   "cell_type": "code",
   "execution_count": 4,
   "metadata": {},
   "outputs": [
    {
     "output_type": "stream",
     "name": "stdout",
     "text": [
      "Bob grades: [90]\nRolf grades: []\n"
     ]
    }
   ],
   "source": [
    "rolf = Student('Rolf')\n",
    "\n",
    "bob = Student('Bob')\n",
    "bob.take_exam(90)\n",
    "\n",
    "bob.show_grades()\n",
    "rolf.show_grades()"
   ]
  }
 ]
}