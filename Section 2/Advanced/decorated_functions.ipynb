{
 "metadata": {
  "language_info": {
   "codemirror_mode": {
    "name": "ipython",
    "version": 3
   },
   "file_extension": ".py",
   "mimetype": "text/x-python",
   "name": "python",
   "nbconvert_exporter": "python",
   "pygments_lexer": "ipython3",
   "version": "3.9.1-final"
  },
  "orig_nbformat": 2,
  "kernelspec": {
   "name": "python3",
   "display_name": "Python 3.9.1 64-bit",
   "metadata": {
    "interpreter": {
     "hash": "798ca19e7eb63894182742896624d4aa0970b1d638e84332a307003e6e8e075e"
    }
   }
  }
 },
 "nbformat": 4,
 "nbformat_minor": 2,
 "cells": [
  {
   "source": [
    "<h3>Decorated Functions</h3>"
   ],
   "cell_type": "markdown",
   "metadata": {}
  },
  {
   "cell_type": "code",
   "execution_count": 1,
   "metadata": {},
   "outputs": [],
   "source": [
    "user = {'username':'alt', 'access_level': 'guest'}\n",
    "\n",
    "\n",
    "def make_secure(func):\n",
    "    def secure_function():\n",
    "        if user['access_level'] == 'admin':\n",
    "            return func()\n",
    "        else:\n",
    "            return 'User {} has no Admin privilegies.'.format(user['username'])\n",
    "\n",
    "    return secure_function\n",
    "\n",
    "\n",
    "@make_secure\n",
    "def get_admin_password():\n",
    "    return '1234'"
   ]
  },
  {
   "cell_type": "code",
   "execution_count": 2,
   "metadata": {},
   "outputs": [
    {
     "output_type": "stream",
     "name": "stdout",
     "text": [
      "User alt has no Admin privilegies.\n"
     ]
    }
   ],
   "source": [
    "print(get_admin_password())"
   ]
  },
  {
   "cell_type": "code",
   "execution_count": 3,
   "metadata": {},
   "outputs": [
    {
     "output_type": "stream",
     "name": "stdout",
     "text": [
      "1234\n"
     ]
    }
   ],
   "source": [
    "user = {'username':'admin', 'access_level':'admin'}\n",
    "\n",
    "print(get_admin_password())"
   ]
  },
  {
   "cell_type": "code",
   "execution_count": 4,
   "metadata": {},
   "outputs": [
    {
     "output_type": "stream",
     "name": "stdout",
     "text": [
      "secure_function\n"
     ]
    }
   ],
   "source": [
    "print(get_admin_password.__name__)"
   ]
  },
  {
   "source": [
    "Percebemos aqui, na verdade, que a função que é retornada, na verdade, agora se torna 'secure_function'. Por conta disso, devemos toamr uma medida adicional no código, que é utilizar um outro, dentro da nossa função decorator, de modo a persistir os dados (wrap)"
   ],
   "cell_type": "markdown",
   "metadata": {}
  },
  {
   "cell_type": "code",
   "execution_count": 5,
   "metadata": {},
   "outputs": [],
   "source": [
    "import functools\n",
    "\n",
    "\n",
    "def make_secure2(func):\n",
    "    @functools.wraps(func)\n",
    "    def secure_function():\n",
    "        if user['access_level'] == 'admin':\n",
    "            return func()\n",
    "        else:\n",
    "            return 'User {} has no Admin privilegies.'.format(user['username'])\n",
    "\n",
    "    return secure_function"
   ]
  },
  {
   "cell_type": "code",
   "execution_count": 6,
   "metadata": {},
   "outputs": [],
   "source": [
    "@make_secure2\n",
    "def get_admin_password2():\n",
    "    return '1234'"
   ]
  },
  {
   "cell_type": "code",
   "execution_count": 7,
   "metadata": {},
   "outputs": [
    {
     "output_type": "stream",
     "name": "stdout",
     "text": [
      "get_admin_password2\n"
     ]
    }
   ],
   "source": [
    "print(get_admin_password2.__name__)"
   ]
  },
  {
   "source": [
    "Nesse ponto, já deve ser possível perceber que as funções transmitidas não possuem muita maleabilidade, de modo que o decorator não recebe nenhum parâmetro de nossa vontade. Nesse ponto, devemos fazer sua composição aceitando args e kwargs, para assim, termos maior maleabilidade"
   ],
   "cell_type": "markdown",
   "metadata": {}
  },
  {
   "cell_type": "code",
   "execution_count": 4,
   "metadata": {},
   "outputs": [],
   "source": [
    "import functools\n",
    "\n",
    "user = {'username': 'admin', 'access_level': 'admin'}\n",
    "\n",
    "def make_secure3(func):\n",
    "    @functools.wraps(func)\n",
    "    def secure_function(*args, **kwargs):\n",
    "        if user['access_level'] == 'admin':\n",
    "            return func(*args, **kwargs)\n",
    "        else:\n",
    "            return 'User {} has no Admin privilegies'.format(user['username'])\n",
    "    \n",
    "\n",
    "    return secure_function\n",
    "\n",
    "\n",
    "@make_secure3\n",
    "def get_password(panel):\n",
    "    if panel == 'admin':\n",
    "        return '1234'\n",
    "    elif panel == 'billing':\n",
    "        return 'super_secure_password'"
   ]
  },
  {
   "cell_type": "code",
   "execution_count": 13,
   "metadata": {},
   "outputs": [
    {
     "output_type": "stream",
     "name": "stdout",
     "text": [
      "admin: 1234\nbilling: super_secure_password\n"
     ]
    }
   ],
   "source": [
    "print('admin:', get_password('admin'))\n",
    "print('billing:', get_password('billing'))"
   ]
  }
 ]
}