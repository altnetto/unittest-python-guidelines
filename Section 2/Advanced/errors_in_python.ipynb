{
 "metadata": {
  "language_info": {
   "codemirror_mode": {
    "name": "ipython",
    "version": 3
   },
   "file_extension": ".py",
   "mimetype": "text/x-python",
   "name": "python",
   "nbconvert_exporter": "python",
   "pygments_lexer": "ipython3",
   "version": "3.9.1-final"
  },
  "orig_nbformat": 2,
  "kernelspec": {
   "name": "python3",
   "display_name": "Python 3.9.1 64-bit",
   "metadata": {
    "interpreter": {
     "hash": "798ca19e7eb63894182742896624d4aa0970b1d638e84332a307003e6e8e075e"
    }
   }
  }
 },
 "nbformat": 4,
 "nbformat_minor": 2,
 "cells": [
  {
   "cell_type": "code",
   "execution_count": 22,
   "metadata": {},
   "outputs": [
    {
     "output_type": "stream",
     "name": "stdout",
     "text": [
      "Bob averaged 82.5.\nError: Divisor cannot be 0. Student 'Rolf' has no grades!\n-- End of student average calculation --\n"
     ]
    }
   ],
   "source": [
    "def divide(dividend, divisor):\n",
    "    if divisor == 0:\n",
    "        raise ZeroDivisionError('Divisor cannot be 0.')\n",
    "\n",
    "    return dividend/divisor\n",
    "\n",
    "\n",
    "students = [\n",
    "    {'name': 'Bob', 'grades': [75,90]},\n",
    "    {'name': 'Rolf', 'grades': [] },\n",
    "    {'name': 'Jen', 'grades': [100,90]}\n",
    "] \n",
    "\n",
    "\n",
    "try:\n",
    "    for student in students:\n",
    "        name = student['name']\n",
    "        grades = student['grades']\n",
    "        average = divide(sum(grades), len(grades))\n",
    "        print(f'{name} averaged {average}.')\n",
    "\n",
    "\n",
    "except ZeroDivisionError as e:\n",
    "    print('Error:',e, f'Student {name!r} has no grades!')\n",
    "else:\n",
    "    print('-- All students averages calculated --')\n",
    "finally:\n",
    "    print('-- End of student average calculation --')"
   ]
  },
  {
   "cell_type": "code",
   "execution_count": 26,
   "metadata": {},
   "outputs": [
    {
     "output_type": "stream",
     "name": "stdout",
     "text": [
      "Bob averaged 82.5.\nRolf averaged 85.0.\nJen averaged 95.0.\n-- All students averages calculated --\n-- End of student average calculation --\n"
     ]
    }
   ],
   "source": [
    "students[1]['grades'] = [80,90]\n",
    "\n",
    "try:\n",
    "    for student in students:\n",
    "        name = student['name']\n",
    "        grades = student['grades']\n",
    "        average = divide(sum(grades), len(grades))\n",
    "        print(f'{name} averaged {average}.')\n",
    "\n",
    "\n",
    "except ZeroDivisionError as e:\n",
    "    print('Error:',e, f'Student {name!r} has no grades!')\n",
    "else:\n",
    "    print('-- All students averages calculated --')\n",
    "finally:\n",
    "    print('-- End of student average calculation --')"
   ]
  }
 ]
}