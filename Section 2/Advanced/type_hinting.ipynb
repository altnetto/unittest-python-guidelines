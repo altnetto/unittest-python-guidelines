{
 "metadata": {
  "language_info": {
   "codemirror_mode": {
    "name": "ipython",
    "version": 3
   },
   "file_extension": ".py",
   "mimetype": "text/x-python",
   "name": "python",
   "nbconvert_exporter": "python",
   "pygments_lexer": "ipython3",
   "version": "3.9.1-final"
  },
  "orig_nbformat": 2,
  "kernelspec": {
   "name": "python3",
   "display_name": "Python 3",
   "language": "python"
  }
 },
 "nbformat": 4,
 "nbformat_minor": 2,
 "cells": [
  {
   "source": [
    "<h3>Type Hinting</h3>\n",
    "\n",
    "Desde a versão 3.5, podemos impor a entrada e saída de formatos de dados no python, o que é extremamente vantajoso em diversos sentidos, pois minimiza os erros.\n",
    "\n",
    "No exemplo abaixo, um erro será exibido, pois inserimos um tipo errado no método (não pode realizar operações sobre inteiros)"
   ],
   "cell_type": "markdown",
   "metadata": {}
  },
  {
   "cell_type": "code",
   "execution_count": 19,
   "metadata": {},
   "outputs": [
    {
     "output_type": "error",
     "ename": "TypeError",
     "evalue": "'int' object is not iterable",
     "traceback": [
      "\u001b[1;31m---------------------------------------------------------------------------\u001b[0m",
      "\u001b[1;31mTypeError\u001b[0m                                 Traceback (most recent call last)",
      "\u001b[1;32m<ipython-input-19-57acc1141c23>\u001b[0m in \u001b[0;36m<module>\u001b[1;34m\u001b[0m\n\u001b[0;32m      4\u001b[0m \u001b[1;33m\u001b[0m\u001b[0m\n\u001b[0;32m      5\u001b[0m \u001b[1;33m\u001b[0m\u001b[0m\n\u001b[1;32m----> 6\u001b[1;33m \u001b[0mlist_avg\u001b[0m\u001b[1;33m(\u001b[0m\u001b[1;36m123\u001b[0m\u001b[1;33m)\u001b[0m\u001b[1;33m\u001b[0m\u001b[1;33m\u001b[0m\u001b[0m\n\u001b[0m",
      "\u001b[1;32m<ipython-input-19-57acc1141c23>\u001b[0m in \u001b[0;36mlist_avg\u001b[1;34m(sequence)\u001b[0m\n\u001b[0;32m      1\u001b[0m \u001b[1;32mdef\u001b[0m \u001b[0mlist_avg\u001b[0m\u001b[1;33m(\u001b[0m\u001b[0msequence\u001b[0m\u001b[1;33m)\u001b[0m\u001b[1;33m:\u001b[0m\u001b[1;33m\u001b[0m\u001b[1;33m\u001b[0m\u001b[0m\n\u001b[0;32m      2\u001b[0m \u001b[1;33m\u001b[0m\u001b[0m\n\u001b[1;32m----> 3\u001b[1;33m     \u001b[1;32mreturn\u001b[0m \u001b[0msum\u001b[0m\u001b[1;33m(\u001b[0m\u001b[0msequence\u001b[0m\u001b[1;33m)\u001b[0m \u001b[1;33m/\u001b[0m \u001b[0mlen\u001b[0m\u001b[1;33m(\u001b[0m\u001b[0msequence\u001b[0m\u001b[1;33m)\u001b[0m\u001b[1;33m\u001b[0m\u001b[1;33m\u001b[0m\u001b[0m\n\u001b[0m\u001b[0;32m      4\u001b[0m \u001b[1;33m\u001b[0m\u001b[0m\n\u001b[0;32m      5\u001b[0m \u001b[1;33m\u001b[0m\u001b[0m\n",
      "\u001b[1;31mTypeError\u001b[0m: 'int' object is not iterable"
     ]
    }
   ],
   "source": [
    "def list_avg(sequence):\n",
    "    \n",
    "    return sum(sequence) / len(sequence)\n",
    "\n",
    "\n",
    "list_avg(123)"
   ]
  },
  {
   "cell_type": "code",
   "execution_count": 17,
   "metadata": {},
   "outputs": [
    {
     "output_type": "execute_result",
     "data": {
      "text/plain": [
       "155.0"
      ]
     },
     "metadata": {},
     "execution_count": 17
    }
   ],
   "source": [
    "from typing import List, Optional\n",
    "\n",
    "\n",
    "def list_avg2(sequence):\n",
    "    if type(sequence) != list:\n",
    "        value = sequence\n",
    "        sequence = []\n",
    "        sequence.append(value)\n",
    "\n",
    "    return sum(sequence) / len(sequence)\n",
    "\n",
    "list_avg2(value)"
   ]
  },
  {
   "source": [
    "Quando trabalhamos com classes, temos de trabalhar de um modo um pouco diferente, declarando o type hinting dentro de uma string, caso ainda não tenha sido declarado"
   ],
   "cell_type": "markdown",
   "metadata": {}
  },
  {
   "cell_type": "code",
   "execution_count": 6,
   "metadata": {},
   "outputs": [],
   "source": [
    "class Book:\n",
    "    TYPES = ('hardcover', 'paperback')\n",
    "\n",
    "    def __init__(self, name: str, book_type: str, weight: int):\n",
    "        self.name = name\n",
    "        self.book_type = book_type\n",
    "        self.weight = weight\n",
    "\n",
    "\n",
    "    def __repr__(self) -> str:\n",
    "        return f'<Book {self.name!r}, {self.book_type}, weighing {self.weight}g>'\n",
    "\n",
    "    \n",
    "    @classmethod\n",
    "    def hardcover(cls, name: str, page_weight: int) -> 'Book':\n",
    "        return cls(name, cls.TYPES[0], page_weight + 100)\n",
    "\n",
    "    \n",
    "    @classmethod\n",
    "    def paperback(cls, name: str, page_weight: int) -> 'Book':\n",
    "        return cls(name, cls.TYPES[1], page_weight)"
   ]
  }
 ]
}