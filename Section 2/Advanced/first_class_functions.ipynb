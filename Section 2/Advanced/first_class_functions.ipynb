{
 "metadata": {
  "language_info": {
   "codemirror_mode": {
    "name": "ipython",
    "version": 3
   },
   "file_extension": ".py",
   "mimetype": "text/x-python",
   "name": "python",
   "nbconvert_exporter": "python",
   "pygments_lexer": "ipython3",
   "version": "3.9.1-final"
  },
  "orig_nbformat": 2,
  "kernelspec": {
   "name": "python3",
   "display_name": "Python 3.9.1 64-bit",
   "metadata": {
    "interpreter": {
     "hash": "798ca19e7eb63894182742896624d4aa0970b1d638e84332a307003e6e8e075e"
    }
   }
  }
 },
 "nbformat": 4,
 "nbformat_minor": 2,
 "cells": [
  {
   "source": [
    "<h3>First Class Functions</h3>\n",
    "\n",
    "Podemos chamar a função simplesmente atribuindo o seu nome como parâmetro de entrada de uma função, a utilizando depois, ao declarar a função com os devidos parâmetros e a instanciando (deve acompanhar os parenteses para isso) "
   ],
   "cell_type": "markdown",
   "metadata": {}
  },
  {
   "cell_type": "code",
   "execution_count": 6,
   "metadata": {},
   "outputs": [
    {
     "output_type": "stream",
     "name": "stdout",
     "text": [
      "5.0\n"
     ]
    }
   ],
   "source": [
    "def divide(dividend, divisor):\n",
    "    if divisor == 0:\n",
    "        raise ZeroDivisionError('Divisor cannot be 0.')\n",
    "\n",
    "    return dividend / divisor\n",
    "\n",
    "\n",
    "def calculate(*values, operator):\n",
    "    return operator(*values)\n",
    "\n",
    "\n",
    "result = calculate(20, 4, operator=divide)\n",
    "\n",
    "print(result)"
   ]
  },
  {
   "cell_type": "code",
   "execution_count": 1,
   "metadata": {},
   "outputs": [],
   "source": [
    "def search(sequence, expected, finder):\n",
    "    for elem in sequence:\n",
    "        if finder(elem) == expected:\n",
    "            return elem\n",
    "\n",
    "    raise RuntimeError(f'Could not find an element with {expected}.')"
   ]
  },
  {
   "cell_type": "code",
   "execution_count": 2,
   "metadata": {},
   "outputs": [],
   "source": [
    "friends = [\n",
    "    {'name': 'Rolf Smith', 'age': 24},\n",
    "    {'name': 'Adam Wool', 'age': 30},\n",
    "    {'name': 'Anne Pun', 'age': 27}\n",
    "]"
   ]
  },
  {
   "cell_type": "code",
   "execution_count": 3,
   "metadata": {},
   "outputs": [],
   "source": [
    "def get_friend_name(friend):\n",
    "    return friend['name']"
   ]
  },
  {
   "cell_type": "code",
   "execution_count": 6,
   "metadata": {},
   "outputs": [
    {
     "output_type": "stream",
     "name": "stdout",
     "text": [
      "Error: Could not find an element with Dusselfdorf.\n"
     ]
    }
   ],
   "source": [
    "try:\n",
    "    print(search(friends, 'Dusselfdorf', get_friend_name))\n",
    "except RuntimeError as e:\n",
    "    print('Error:', e)"
   ]
  },
  {
   "cell_type": "code",
   "execution_count": 7,
   "metadata": {},
   "outputs": [
    {
     "output_type": "stream",
     "name": "stdout",
     "text": [
      "{'name': 'Rolf Smith', 'age': 24}\n"
     ]
    }
   ],
   "source": [
    "try:\n",
    "    print(search(friends, 'Rolf Smith', get_friend_name))\n",
    "except RuntimeError as e:\n",
    "    print('Error:', e)"
   ]
  },
  {
   "source": [
    "Também pode-se simplesmente usar uma lambda function no lugar da função em questão, o que é bem vantajoso em termos de linhas de código"
   ],
   "cell_type": "markdown",
   "metadata": {}
  },
  {
   "cell_type": "code",
   "execution_count": 9,
   "metadata": {},
   "outputs": [
    {
     "output_type": "stream",
     "name": "stdout",
     "text": [
      "{'name': 'Rolf Smith', 'age': 24}\n"
     ]
    }
   ],
   "source": [
    "print(search(friends, 'Rolf Smith', lambda friend: friend['name']))"
   ]
  },
  {
   "source": [
    "Além disso, podemos utilizar uma operação mais avançada, utilizando o package 'operator' com a função 'itemgetter'"
   ],
   "cell_type": "markdown",
   "metadata": {}
  },
  {
   "cell_type": "code",
   "execution_count": 11,
   "metadata": {},
   "outputs": [
    {
     "output_type": "stream",
     "name": "stdout",
     "text": [
      "{'name': 'Rolf Smith', 'age': 24}\n"
     ]
    }
   ],
   "source": [
    "# operação mais avançada\n",
    "from operator import itemgetter\n",
    "\n",
    "print(search(friends, 'Rolf Smith', itemgetter('name')))"
   ]
  }
 ]
}