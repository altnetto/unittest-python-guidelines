{
 "metadata": {
  "language_info": {
   "codemirror_mode": {
    "name": "ipython",
    "version": 3
   },
   "file_extension": ".py",
   "mimetype": "text/x-python",
   "name": "python",
   "nbconvert_exporter": "python",
   "pygments_lexer": "ipython3",
   "version": "3.9.1-final"
  },
  "orig_nbformat": 2,
  "kernelspec": {
   "name": "python3",
   "display_name": "Python 3.9.1 64-bit",
   "metadata": {
    "interpreter": {
     "hash": "798ca19e7eb63894182742896624d4aa0970b1d638e84332a307003e6e8e075e"
    }
   }
  }
 },
 "nbformat": 4,
 "nbformat_minor": 2,
 "cells": [
  {
   "source": [
    "<h3>Decorators</h3>"
   ],
   "cell_type": "markdown",
   "metadata": {}
  },
  {
   "cell_type": "code",
   "execution_count": 9,
   "metadata": {},
   "outputs": [
    {
     "output_type": "stream",
     "name": "stdout",
     "text": [
      "User alt has not enough privilegies.\n"
     ]
    }
   ],
   "source": [
    "user = {'username': 'alt', 'access_level':'guest'}\n",
    "\n",
    "\n",
    "def get_admin_password():\n",
    "    return '1234'\n",
    "\n",
    "\n",
    "def make_secure(func):\n",
    "    def secure_function():\n",
    "        if user['access_level'] == 'admin':\n",
    "            return func()\n",
    "        else:\n",
    "            return 'User {} has not enough privilegies.'.format(user['username'])\n",
    "\n",
    "    return secure_function\n",
    "\n",
    "# nesse ponto, o que ocorre é o seguinte... Definimos que a função get_admin_password agora é \n",
    "# instanciada dentro de make_secure, o que a torna, após essa linha de código, segura.\n",
    "# vale ressaltar que, quando um objeto, classe ou função é importada, irá buscar a última ocorrência\n",
    "# do mesmo\n",
    "\n",
    "get_admin_password = make_secure(get_admin_password)\n",
    "\n",
    "\n",
    "print(get_admin_password())"
   ]
  },
  {
   "cell_type": "code",
   "execution_count": 10,
   "metadata": {},
   "outputs": [
    {
     "output_type": "stream",
     "name": "stdout",
     "text": [
      "1234\n"
     ]
    }
   ],
   "source": [
    "user = {'username': 'alt', 'access_level':'admin'}\n",
    "\n",
    "print(get_admin_password())"
   ]
  }
 ]
}