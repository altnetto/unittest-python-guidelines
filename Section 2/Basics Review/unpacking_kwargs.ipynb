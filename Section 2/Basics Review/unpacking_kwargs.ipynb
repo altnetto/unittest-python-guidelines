{
 "metadata": {
  "language_info": {
   "codemirror_mode": {
    "name": "ipython",
    "version": 3
   },
   "file_extension": ".py",
   "mimetype": "text/x-python",
   "name": "python",
   "nbconvert_exporter": "python",
   "pygments_lexer": "ipython3",
   "version": "3.9.1-final"
  },
  "orig_nbformat": 2,
  "kernelspec": {
   "name": "python3",
   "display_name": "Python 3.9.1 64-bit",
   "metadata": {
    "interpreter": {
     "hash": "55421908667a225820f2cd05496734e43c3ddbc7d792b945edc730d5b93ba56f"
    }
   }
  }
 },
 "nbformat": 4,
 "nbformat_minor": 2,
 "cells": [
  {
   "cell_type": "code",
   "execution_count": 1,
   "metadata": {},
   "outputs": [
    {
     "output_type": "stream",
     "name": "stdout",
     "text": [
      "name='Bob', age=25\n"
     ]
    }
   ],
   "source": [
    "def named(name, age):\n",
    "    print(f'{name=}, {age=}')\n",
    "\n",
    "\n",
    "details = {'name': 'Bob', 'age': 25}\n",
    "\n",
    "named(**details)"
   ]
  },
  {
   "cell_type": "code",
   "execution_count": 8,
   "metadata": {},
   "outputs": [
    {
     "output_type": "stream",
     "name": "stdout",
     "text": [
      "{'name': 'Bob', 'age': 25}\n"
     ]
    }
   ],
   "source": [
    "def named2(**kwargs):\n",
    "    print(kwargs)\n",
    "\n",
    "\n",
    "details = {'name': 'Bob', 'age': 25}\n",
    "\n",
    "named2(**details)"
   ]
  },
  {
   "cell_type": "code",
   "execution_count": 20,
   "metadata": {},
   "outputs": [
    {
     "output_type": "stream",
     "name": "stdout",
     "text": [
      "name='Bob', age=25\nname: Bob\nage: 25\nname='Bob', age=25\nname: Bob\nage: 25\n"
     ]
    }
   ],
   "source": [
    "def print_nicely(**kwargs):\n",
    "    named(**kwargs)\n",
    "    for arg, value in kwargs.items():\n",
    "        print(f'{arg}: {value}')\n",
    "\n",
    "\n",
    "print_nicely(**details)\n",
    "\n",
    "print_nicely(name='Bob', age=25)"
   ]
  },
  {
   "cell_type": "code",
   "execution_count": 21,
   "metadata": {},
   "outputs": [
    {
     "output_type": "stream",
     "name": "stdout",
     "text": [
      "(1, 3, 5)\n{'name': 'Bob', 'age': 25}\n"
     ]
    }
   ],
   "source": [
    "def both(*args, **kwargs):\n",
    "    print(args)\n",
    "    print(kwargs)\n",
    "\n",
    "\n",
    "both(1,3,5, name='Bob', age=25)"
   ]
  }
 ]
}