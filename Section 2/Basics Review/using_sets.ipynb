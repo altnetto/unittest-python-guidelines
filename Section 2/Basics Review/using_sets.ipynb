{
 "metadata": {
  "language_info": {
   "codemirror_mode": {
    "name": "ipython",
    "version": 3
   },
   "file_extension": ".py",
   "mimetype": "text/x-python",
   "name": "python",
   "nbconvert_exporter": "python",
   "pygments_lexer": "ipython3",
   "version": "3.9.1-final"
  },
  "orig_nbformat": 2,
  "kernelspec": {
   "name": "python3",
   "display_name": "Python 3.9.1 64-bit",
   "metadata": {
    "interpreter": {
     "hash": "55421908667a225820f2cd05496734e43c3ddbc7d792b945edc730d5b93ba56f"
    }
   }
  }
 },
 "nbformat": 4,
 "nbformat_minor": 2,
 "cells": [
  {
   "cell_type": "code",
   "execution_count": 1,
   "metadata": {},
   "outputs": [
    {
     "output_type": "stream",
     "name": "stdout",
     "text": [
      "{'Rolf', 'Jorge'}\n"
     ]
    }
   ],
   "source": [
    "friends = {'Bob', 'Rolf', 'Anne'}\n",
    "abroad = {'Bob', 'Anne'}\n",
    "\n",
    "friends.add('Jorge')\n",
    "\n",
    "# nesse ponto, geramos um novo set, utilizando a diferença entre dois sets\n",
    "local_friends = friends.difference(abroad)\n",
    "\n",
    "print(local_friends)"
   ]
  },
  {
   "cell_type": "code",
   "execution_count": 3,
   "metadata": {},
   "outputs": [
    {
     "output_type": "stream",
     "name": "stdout",
     "text": [
      "{'Rolf', 'Anne', 'Carlos', 'Bob'}\n"
     ]
    }
   ],
   "source": [
    "local = {'Rolf', 'Anne'}\n",
    "abroad = {'Bob', 'Carlos'}\n",
    "\n",
    "# aqui, faremos a junção de dois sets\n",
    "friends = local.union(abroad)\n",
    "\n",
    "print(friends)"
   ]
  },
  {
   "cell_type": "code",
   "execution_count": 4,
   "metadata": {},
   "outputs": [
    {
     "output_type": "stream",
     "name": "stdout",
     "text": [
      "{'Jen', 'Bob'}\n"
     ]
    }
   ],
   "source": [
    "art_students = {'Bob', 'Jen', 'Rolf', 'Charlie'}\n",
    "science_students = {'Bob', 'Jen', 'Marcos', 'Adam'}\n",
    "\n",
    "# aqui, temos a intersecção dos dois conjuntos\n",
    "both_students = art_students.intersection(science_students)\n",
    "\n",
    "print(both_students)"
   ]
  },
  {
   "cell_type": "code",
   "execution_count": 8,
   "metadata": {},
   "outputs": [
    {
     "output_type": "stream",
     "name": "stdout",
     "text": [
      "art_students={'Rolf', 'Charlie', 'Bob', 'Jen'}\n"
     ]
    }
   ],
   "source": [
    "# como gerar a visualização do nome da variável e seu conteúdo, de forma muito rápida e fluida\n",
    "\n",
    "print(f'{art_students=}')"
   ]
  }
 ]
}