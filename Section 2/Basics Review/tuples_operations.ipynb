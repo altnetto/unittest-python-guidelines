{
 "metadata": {
  "language_info": {
   "codemirror_mode": {
    "name": "ipython",
    "version": 3
   },
   "file_extension": ".py",
   "mimetype": "text/x-python",
   "name": "python",
   "nbconvert_exporter": "python",
   "pygments_lexer": "ipython3",
   "version": "3.9.1-final"
  },
  "orig_nbformat": 2,
  "kernelspec": {
   "name": "python3",
   "display_name": "Python 3.9.1 64-bit ('env')",
   "metadata": {
    "interpreter": {
     "hash": "798ca19e7eb63894182742896624d4aa0970b1d638e84332a307003e6e8e075e"
    }
   }
  }
 },
 "nbformat": 4,
 "nbformat_minor": 2,
 "cells": [
  {
   "source": [
    "Ao se converter um dicionário para lista, temos algumas opções:\n",
    "\n",
    "- list(dictionary.items()): converte para uma lista de tuplas (afinal, o método items irá fornecer tuplas dos elementos chave-valor)\n",
    "- list(dictionary): converte para uma lista com os elementos sendo as chaves do dicionário (isso pode ser observado também ao utilizar um loop for para o dicionário)"
   ],
   "cell_type": "markdown",
   "metadata": {}
  },
  {
   "cell_type": "code",
   "execution_count": 6,
   "metadata": {},
   "outputs": [
    {
     "output_type": "stream",
     "name": "stdout",
     "text": [
      "[('Jorge', 85), ('Maria', 79), ('Elaine', 90)]\n"
     ]
    }
   ],
   "source": [
    "students_attendance = {'Jorge': 85, 'Maria': 79, 'Elaine': 90}\n",
    "\n",
    "l_students_attendance = list(students_attendance.items())\n",
    "\n",
    "print(l_students_attendance)"
   ]
  },
  {
   "cell_type": "code",
   "execution_count": 7,
   "metadata": {},
   "outputs": [
    {
     "output_type": "stream",
     "name": "stdout",
     "text": [
      "student='Jorge', attendance=85\nstudent='Maria', attendance=79\nstudent='Elaine', attendance=90\n"
     ]
    }
   ],
   "source": [
    "for student, attendance in students_attendance.items():\n",
    "    print(f'{student=}, {attendance=}')"
   ]
  },
  {
   "source": [
    "Pode-se também iterar sobre as tuplas dentro de uma lista. Veja que podemos tanto criar variáveis para determinar os dados ou também podemos simplesmente posicionar os elementos dentro da tupla"
   ],
   "cell_type": "markdown",
   "metadata": {}
  },
  {
   "cell_type": "code",
   "execution_count": 10,
   "metadata": {},
   "outputs": [
    {
     "output_type": "stream",
     "name": "stdout",
     "text": [
      "Name: Bob, Age: 42, Profession: Mechanic\nName: James, Age: 24, Profession: Artist\nName: Harry, Age: 32, Profession: Lecturer\n\n\n\nName: Bob, Age: 42, Profession: Mechanic\nName: James, Age: 24, Profession: Artist\nName: Harry, Age: 32, Profession: Lecturer\n"
     ]
    }
   ],
   "source": [
    "people = [('Bob', 42, 'Mechanic'), ('James', 24, 'Artist'), ('Harry', 32, 'Lecturer')]\n",
    "\n",
    "for name, age, profession in people:\n",
    "    print(f'Name: {name}, Age: {age}, Profession: {profession}')\n",
    "\n",
    "print('\\n\\n')\n",
    "\n",
    "for person in people:\n",
    "    print(f'Name: {person[0]}, Age: {person[1]}, Profession: {person[2]}')"
   ]
  },
  {
   "source": [
    "Se você atribuir uma variável o nome de '_' apenas, ela será ignorada"
   ],
   "cell_type": "markdown",
   "metadata": {}
  },
  {
   "cell_type": "code",
   "execution_count": 12,
   "metadata": {},
   "outputs": [
    {
     "output_type": "stream",
     "name": "stdout",
     "text": [
      "Name: Bob, Profession: Mechanic\n"
     ]
    }
   ],
   "source": [
    "person = ('Bob', 42, 'Mechanic')\n",
    "\n",
    "name, _, profession = person\n",
    "\n",
    "print(f'Name: {name}, Profession: {profession}')"
   ]
  },
  {
   "source": [
    "Podemos utilizar os *args para desconstruir elementos de uma lista, por exemplo"
   ],
   "cell_type": "markdown",
   "metadata": {}
  },
  {
   "cell_type": "code",
   "execution_count": 18,
   "metadata": {},
   "outputs": [
    {
     "output_type": "stream",
     "name": "stdout",
     "text": [
      "1\n[2, 3, 4, 5] tipo: <class 'list'>\n2 3 4 5\n"
     ]
    }
   ],
   "source": [
    "head, *tail = [1,2,3,4,5]\n",
    "\n",
    "print(head)\n",
    "\n",
    "# aqui, temos duas possibilidades de uso. Caso utilizemos apenas a variável empacotada, teremos os valores no formato de lista\n",
    "# caso contrário, usando *tail, teremos a variável desempacotada, ou seja, os valores livres\n",
    "print(tail, f'tipo: {type(tail)}')\n",
    "print(*tail)"
   ]
  },
  {
   "source": [
    "Pode-se também separar o último elemento ou subsequentes"
   ],
   "cell_type": "markdown",
   "metadata": {}
  },
  {
   "cell_type": "code",
   "execution_count": 19,
   "metadata": {},
   "outputs": [
    {
     "output_type": "stream",
     "name": "stdout",
     "text": [
      "[1, 2, 3, 4]\n5\n"
     ]
    }
   ],
   "source": [
    "*head, tail = [1,2,3,4,5]\n",
    "\n",
    "print(head)\n",
    "print(tail)"
   ]
  }
 ]
}