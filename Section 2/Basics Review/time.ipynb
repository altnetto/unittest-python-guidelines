{
 "metadata": {
  "language_info": {
   "codemirror_mode": {
    "name": "ipython",
    "version": 3
   },
   "file_extension": ".py",
   "mimetype": "text/x-python",
   "name": "python",
   "nbconvert_exporter": "python",
   "pygments_lexer": "ipython3",
   "version": "3.9.1-final"
  },
  "orig_nbformat": 2,
  "kernelspec": {
   "name": "python3",
   "display_name": "Python 3.9.1 64-bit",
   "metadata": {
    "interpreter": {
     "hash": "55421908667a225820f2cd05496734e43c3ddbc7d792b945edc730d5b93ba56f"
    }
   }
  }
 },
 "nbformat": 4,
 "nbformat_minor": 2,
 "cells": [
  {
   "cell_type": "code",
   "execution_count": 32,
   "metadata": {},
   "outputs": [
    {
     "output_type": "stream",
     "name": "stdout",
     "text": [
      "Today is Saturday\n"
     ]
    }
   ],
   "source": [
    "from datetime import datetime\n",
    "\n",
    "agora = datetime.now()\n",
    "\n",
    "dia_de_hoje = agora.strftime('%A')\n",
    "\n",
    "print(f'Today is {dia_de_hoje}')"
   ]
  }
 ]
}